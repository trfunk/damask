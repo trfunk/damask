{
 "cells": [
  {
   "cell_type": "code",
   "execution_count": 9,
   "id": "requested-interim",
   "metadata": {},
   "outputs": [
    {
     "name": "stdout",
     "output_type": "stream",
     "text": [
      "Using matplotlib backend: TkAgg\n"
     ]
    }
   ],
   "source": [
    "%matplotlib"
   ]
  },
  {
   "cell_type": "code",
   "execution_count": 10,
   "id": "2edadcf3",
   "metadata": {},
   "outputs": [],
   "source": [
    "import numpy as np\n",
    "import damask"
   ]
  },
  {
   "cell_type": "code",
   "execution_count": 26,
   "id": "eb656eea",
   "metadata": {},
   "outputs": [
    {
     "data": {
      "text/plain": [
       "\u001b[2mCreated by DAMASK_grid v3.0.0-alpha7\n",
       "        on 2023-10-09 16:18:38+0200\n",
       " executing \"DAMASK_grid --load tension2.5.yaml --geom 20_20x20x1_pc_circ.vti\"\u001b[0m\n",
       "\n",
       "increment_0 (0.0 s)\n",
       "  phase\n",
       "    A\n",
       "      mechanical\n",
       "        F / 1: deformation gradient\n",
       "        F_e / 1: elastic deformation gradient\n",
       "        F_p / 1: plastic deformation gradient\n",
       "        L_p / 1/s: plastic velocity gradient\n",
       "        O / q_0 (q_1 q_2 q_3): crystal orientation as quaternion\n",
       "        P / Pa: first Piola-Kirchhoff stress\n",
       "  homogenization\n",
       "    sx\n",
       "      mechanical\n",
       "\n",
       "increment_5\n",
       "  ...\n",
       "\n",
       "increment_10\n",
       "  ...\n",
       "\n",
       "increment_15\n",
       "  ...\n",
       "\n",
       "increment_20\n",
       "  ...\n",
       "\n",
       "increment_25\n",
       "  ...\n",
       "\n",
       "increment_30\n",
       "  ...\n",
       "\n",
       "increment_35\n",
       "  ...\n",
       "\n",
       "increment_40\n",
       "  ...\n",
       "\n",
       "increment_45\n",
       "  ...\n",
       "\n",
       "increment_50\n",
       "  ...\n",
       "\n",
       "increment_55\n",
       "  ...\n",
       "\n",
       "increment_60\n",
       "  ...\n",
       "\n",
       "increment_65\n",
       "  ...\n",
       "\n",
       "increment_70\n",
       "  ...\n",
       "\n",
       "increment_75\n",
       "  ...\n",
       "\n",
       "increment_80\n",
       "  ...\n",
       "\n",
       "increment_85\n",
       "  ...\n",
       "\n",
       "increment_90\n",
       "  ...\n",
       "\n",
       "increment_95\n",
       "  ...\n",
       "\n",
       "increment_100\n",
       "  ...\n",
       "\n",
       "increment_105\n",
       "  ...\n",
       "\n",
       "increment_110\n",
       "  ...\n",
       "\n",
       "increment_115 (57.5 s)\n",
       "  phase\n",
       "    A\n",
       "      mechanical\n",
       "        F / 1: deformation gradient\n",
       "        F_e / 1: elastic deformation gradient\n",
       "        F_p / 1: plastic deformation gradient\n",
       "        L_p / 1/s: plastic velocity gradient\n",
       "        O / q_0 (q_1 q_2 q_3): crystal orientation as quaternion\n",
       "        P / Pa: first Piola-Kirchhoff stress\n",
       "  homogenization\n",
       "    sx\n",
       "      mechanical"
      ]
     },
     "execution_count": 26,
     "metadata": {},
     "output_type": "execute_result"
    }
   ],
   "source": [
    "res = damask.Result('20_20x20x1_pc_circ_tension2.5.hdf5')\n",
    "res"
   ]
  },
  {
   "cell_type": "code",
   "execution_count": 27,
   "id": "imported-profit",
   "metadata": {},
   "outputs": [],
   "source": [
    "# load the result\n",
    "\n",
    "#res.get('').values()\n",
    "    "
   ]
  },
  {
   "cell_type": "code",
   "execution_count": 28,
   "id": "insured-worth",
   "metadata": {},
   "outputs": [
    {
     "name": "stderr",
     "output_type": "stream",
     "text": [
      " ██████████████████████████████████████████████████ 100% ETA 0:00:00\n",
      " ██████████████████████████████████████████████████ 100% ETA 0:00:00\n",
      " ██████████████████████████████████████████████████ 100% ETA 0:00:00\n",
      " ██████████████████████████████████████████████████ 100% ETA 0:00:00\n",
      " ██████████████████████████████████████████████████ 100% ETA 0:00:00\n"
     ]
    }
   ],
   "source": [
    "# compute derived field data\n",
    "res.add_stress_Cauchy()\n",
    "res.add_strain()\n",
    "res.add_strain('F_p')\n",
    "res.add_equivalent_Mises('sigma')\n",
    "res.add_equivalent_Mises('epsilon_V^0.0(F)')\n"
   ]
  },
  {
   "cell_type": "code",
   "execution_count": 29,
   "id": "727778b9",
   "metadata": {},
   "outputs": [],
   "source": [
    "#res.export_setup()"
   ]
  },
  {
   "cell_type": "code",
   "execution_count": 30,
   "id": "related-raising",
   "metadata": {},
   "outputs": [],
   "source": [
    "#res.export_VTK()"
   ]
  },
  {
   "cell_type": "code",
   "execution_count": 31,
   "id": "regulated-throw",
   "metadata": {},
   "outputs": [
    {
     "name": "stderr",
     "output_type": "stream",
     "text": [
      " ██████████████████████████████████████████████████ 100% ETA 0:00:00\n"
     ]
    }
   ],
   "source": [
    "res.add_IPF_color([1,0,0])\n",
    "#res.add_IPF_color([0,1,0])\n",
    "#res.add_IPF_color([0,0,1])\n",
    "#res.add_IPF_color([0,1,1])\n",
    "#res.add_IPF_color([1,1,1])"
   ]
  },
  {
   "cell_type": "code",
   "execution_count": 32,
   "id": "fallen-florence",
   "metadata": {},
   "outputs": [
    {
     "data": {
      "text/plain": [
       "\u001b[2mCreated by DAMASK_grid v3.0.0-alpha7\n",
       "        on 2023-10-09 16:18:38+0200\n",
       " executing \"DAMASK_grid --load tension2.5.yaml --geom 20_20x20x1_pc_circ.vti\"\u001b[0m\n",
       "\n",
       "increment_0 (0.0 s)\n",
       "  phase\n",
       "    A\n",
       "      mechanical\n",
       "        F / 1: deformation gradient\n",
       "        F_e / 1: elastic deformation gradient\n",
       "        F_p / 1: plastic deformation gradient\n",
       "        IPFcolor_(1 0 0) / 8-bit RGB: Inverse Pole Figure (IPF) colors along sample direction (1 0 0)\n",
       "        L_p / 1/s: plastic velocity gradient\n",
       "        O / q_0 (q_1 q_2 q_3): crystal orientation as quaternion\n",
       "        P / Pa: first Piola-Kirchhoff stress\n",
       "        epsilon_V^0.0(F) / 1: strain tensor of F (deformation gradient)\n",
       "        epsilon_V^0.0(F)_vM / 1: Mises equivalent strain of epsilon_V^0.0(F) (strain tensor of F (deformation gradient))\n",
       "        epsilon_V^0.0(F_p) / 1: strain tensor of F_p (plastic deformation gradient)\n",
       "        sigma / Pa: Cauchy stress calculated from P (first Piola-Kirchhoff stress) and F (deformation gradient)\n",
       "        sigma_vM / Pa: Mises equivalent stress of sigma (Cauchy stress calculated from P (first Piola-Kirchhoff stress) and F (deformation gradient))\n",
       "  homogenization\n",
       "    sx\n",
       "      mechanical\n",
       "\n",
       "increment_5\n",
       "  ...\n",
       "\n",
       "increment_10\n",
       "  ...\n",
       "\n",
       "increment_15\n",
       "  ...\n",
       "\n",
       "increment_20\n",
       "  ...\n",
       "\n",
       "increment_25\n",
       "  ...\n",
       "\n",
       "increment_30\n",
       "  ...\n",
       "\n",
       "increment_35\n",
       "  ...\n",
       "\n",
       "increment_40\n",
       "  ...\n",
       "\n",
       "increment_45\n",
       "  ...\n",
       "\n",
       "increment_50\n",
       "  ...\n",
       "\n",
       "increment_55\n",
       "  ...\n",
       "\n",
       "increment_60\n",
       "  ...\n",
       "\n",
       "increment_65\n",
       "  ...\n",
       "\n",
       "increment_70\n",
       "  ...\n",
       "\n",
       "increment_75\n",
       "  ...\n",
       "\n",
       "increment_80\n",
       "  ...\n",
       "\n",
       "increment_85\n",
       "  ...\n",
       "\n",
       "increment_90\n",
       "  ...\n",
       "\n",
       "increment_95\n",
       "  ...\n",
       "\n",
       "increment_100\n",
       "  ...\n",
       "\n",
       "increment_105\n",
       "  ...\n",
       "\n",
       "increment_110\n",
       "  ...\n",
       "\n",
       "increment_115 (57.5 s)\n",
       "  phase\n",
       "    A\n",
       "      mechanical\n",
       "        F / 1: deformation gradient\n",
       "        F_e / 1: elastic deformation gradient\n",
       "        F_p / 1: plastic deformation gradient\n",
       "        IPFcolor_(1 0 0) / 8-bit RGB: Inverse Pole Figure (IPF) colors along sample direction (1 0 0)\n",
       "        L_p / 1/s: plastic velocity gradient\n",
       "        O / q_0 (q_1 q_2 q_3): crystal orientation as quaternion\n",
       "        P / Pa: first Piola-Kirchhoff stress\n",
       "        epsilon_V^0.0(F) / 1: strain tensor of F (deformation gradient)\n",
       "        epsilon_V^0.0(F)_vM / 1: Mises equivalent strain of epsilon_V^0.0(F) (strain tensor of F (deformation gradient))\n",
       "        epsilon_V^0.0(F_p) / 1: strain tensor of F_p (plastic deformation gradient)\n",
       "        sigma / Pa: Cauchy stress calculated from P (first Piola-Kirchhoff stress) and F (deformation gradient)\n",
       "        sigma_vM / Pa: Mises equivalent stress of sigma (Cauchy stress calculated from P (first Piola-Kirchhoff stress) and F (deformation gradient))\n",
       "  homogenization\n",
       "    sx\n",
       "      mechanical"
      ]
     },
     "execution_count": 32,
     "metadata": {},
     "output_type": "execute_result"
    }
   ],
   "source": [
    "res\n",
    "\n"
   ]
  },
  {
   "cell_type": "code",
   "execution_count": 33,
   "id": "continuous-microphone",
   "metadata": {},
   "outputs": [
    {
     "name": "stderr",
     "output_type": "stream",
     "text": [
      " ██████████████████████████████████████████████████ 100% ETA 0:00:00\n"
     ]
    }
   ],
   "source": [
    "res.export_VTK()"
   ]
  },
  {
   "cell_type": "code",
   "execution_count": null,
   "id": "forward-handbook",
   "metadata": {},
   "outputs": [],
   "source": []
  }
 ],
 "metadata": {
  "kernelspec": {
   "display_name": "Python 3 (ipykernel)",
   "language": "python",
   "name": "python3"
  },
  "language_info": {
   "codemirror_mode": {
    "name": "ipython",
    "version": 3
   },
   "file_extension": ".py",
   "mimetype": "text/x-python",
   "name": "python",
   "nbconvert_exporter": "python",
   "pygments_lexer": "ipython3",
   "version": "3.10.12"
  },
  "vscode": {
   "interpreter": {
    "hash": "31f2aee4e71d21fbe5cf8b01ff0e069b9275f58929596ceb00d14d90e3e16cd6"
   }
  }
 },
 "nbformat": 4,
 "nbformat_minor": 5
}
