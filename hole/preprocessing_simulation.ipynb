{
 "cells": [
  {
   "cell_type": "code",
   "execution_count": 152,
   "id": "opening-association",
   "metadata": {},
   "outputs": [],
   "source": [
    "import damask\n",
    "import numpy as np\n"
   ]
  },
  {
   "cell_type": "code",
   "execution_count": 153,
   "id": "annoying-shoot",
   "metadata": {},
   "outputs": [],
   "source": [
    "# new material \"material\"\n",
    "material = damask.ConfigMaterial()"
   ]
  },
  {
   "cell_type": "code",
   "execution_count": 154,
   "id": "architectural-township",
   "metadata": {},
   "outputs": [],
   "source": [
    "# define isotrain Taylor 2 homogenization\n",
    "\n",
    "#material['homogenization']['sx'] = damask.ConfigMaterial.load('isostrain_Taylor2.yaml') # does not work\n",
    "material['homogenization']['sx'] = {'N_constituents':1, 'mechanical': {'type':'isostrain'}} # make it make sense\n",
    "\n",
    "#material['homogenization']['sx'] = {'N_constituents':1}\n"
   ]
  },
  {
   "cell_type": "code",
   "execution_count": 155,
   "id": "flexible-james",
   "metadata": {},
   "outputs": [],
   "source": [
    "#define materials, Material A being Al (plastic) and Material B being Ti (plastic)\n",
    "material['phase']['A'] = damask.ConfigMaterial.load('phenopowerlaw_Al.yaml') # Load AL (plastic)\n",
    "material['phase']['B'] = damask.ConfigMaterial.load('phenopowerlaw_Ti.yaml') # Load Ti (plastic)"
   ]
  },
  {
   "cell_type": "code",
   "execution_count": 156,
   "id": "visible-disorder",
   "metadata": {},
   "outputs": [],
   "source": [
    "# define microstructure, 25 grains of Al and Ti - creating random microstructure\n",
    "O_A = damask.Rotation.from_random(10)\n",
    "O_B = damask.Rotation.from_random(10)\n"
   ]
  },
  {
   "cell_type": "code",
   "execution_count": 157,
   "id": "average-italic",
   "metadata": {
    "scrolled": false
   },
   "outputs": [
    {
     "name": "stdout",
     "output_type": "stream",
     "text": [
      "material:\n",
      "  - constituents:\n",
      "      - phase: A\n",
      "        O: [0.38847385953965957, -0.30120615289112496, 0.8210979310967131, 0.2901053282233651]\n",
      "        v: 1.0\n",
      "    homogenization: sx\n",
      "  - constituents:\n",
      "      - phase: A\n",
      "        O: [0.4479257083384133, -0.7574485929123014, 0.2496494658265108, -0.4041154947750001]\n",
      "        v: 1.0\n",
      "    homogenization: sx\n",
      "  - constituents:\n",
      "      - phase: A\n",
      "        O: [0.6163661600416206, 0.16026116144568026, -0.06117462964248499, -0.7685484900614494]\n",
      "        v: 1.0\n",
      "    homogenization: sx\n",
      "  - constituents:\n",
      "      - phase: A\n",
      "        O: [0.3849813938822825, 0.001643281100394507, -0.7111413974003643, 0.5882725039428046]\n",
      "        v: 1.0\n",
      "    homogenization: sx\n",
      "  - constituents:\n",
      "      - phase: A\n",
      "        O: [0.30490537082852764, -0.1580086186490231, -0.8634659213087585, 0.3694490411558302]\n",
      "        v: 1.0\n",
      "    homogenization: sx\n",
      "  - constituents:\n",
      "      - phase: A\n",
      "        O: [0.9891792315555276, -0.020893131043895275, 0.08859449998207232, -0.11506059059176216]\n",
      "        v: 1.0\n",
      "    homogenization: sx\n",
      "  - constituents:\n",
      "      - phase: A\n",
      "        O: [0.4235061702138621, -0.07230211716218635, -0.6005321877062126, 0.6743708320897657]\n",
      "        v: 1.0\n",
      "    homogenization: sx\n",
      "  - constituents:\n",
      "      - phase: A\n",
      "        O: [0.7359226734905006, -0.17752092122313481, 0.3954534254533439, -0.5201160730720599]\n",
      "        v: 1.0\n",
      "    homogenization: sx\n",
      "  - constituents:\n",
      "      - phase: A\n",
      "        O: [0.676266340865358, -0.2821625984150372, -0.5320150260957409, -0.4242736337278126]\n",
      "        v: 1.0\n",
      "    homogenization: sx\n",
      "  - constituents:\n",
      "      - phase: A\n",
      "        O: [0.834758364352001, -0.507649459666822, -0.19045040427963963, 0.09591216165887011]\n",
      "        v: 1.0\n",
      "    homogenization: sx\n",
      "  - constituents:\n",
      "      - phase: B\n",
      "        O: [0.7249580444054069, -0.6506778381953541, -0.22153353592494102, 0.0444643362021935]\n",
      "        v: 1.0\n",
      "    homogenization: sx\n",
      "  - constituents:\n",
      "      - phase: B\n",
      "        O: [0.28626946927817115, -0.4311959728957316, -0.8141740123639609, -0.2631358993160503]\n",
      "        v: 1.0\n",
      "    homogenization: sx\n",
      "  - constituents:\n",
      "      - phase: B\n",
      "        O: [0.5880463934464144, -0.07949313421496876, 0.3343716194706397, -0.7321734090090458]\n",
      "        v: 1.0\n",
      "    homogenization: sx\n",
      "  - constituents:\n",
      "      - phase: B\n",
      "        O: [0.13162107167525747, 0.4210851156117059, -0.4845881324951614, 0.7553393679308559]\n",
      "        v: 1.0\n",
      "    homogenization: sx\n",
      "  - constituents:\n",
      "      - phase: B\n",
      "        O: [0.8766702201282282, 0.22294218682279038, -0.03535507499035191, -0.4248483554721879]\n",
      "        v: 1.0\n",
      "    homogenization: sx\n",
      "  - constituents:\n",
      "      - phase: B\n",
      "        O: [0.1954495320023823, 0.572759364174438, 0.028215261619180212, 0.7955816049924134]\n",
      "        v: 1.0\n",
      "    homogenization: sx\n",
      "  - constituents:\n",
      "      - phase: B\n",
      "        O: [0.4918053084489494, -0.7078993548772838, 0.09504713802025974, -0.4979679542901498]\n",
      "        v: 1.0\n",
      "    homogenization: sx\n",
      "  - constituents:\n",
      "      - phase: B\n",
      "        O: [0.6364522491826122, -0.46459530013596095, -0.38267221454867373, -0.4823294701906407]\n",
      "        v: 1.0\n",
      "    homogenization: sx\n",
      "  - constituents:\n",
      "      - phase: B\n",
      "        O: [0.2410474484611545, -0.702501799008649, -0.6557668318659314, 0.1354887899587933]\n",
      "        v: 1.0\n",
      "    homogenization: sx\n",
      "  - constituents:\n",
      "      - phase: B\n",
      "        O: [0.46070688814603145, -0.790899091208111, 0.03221603966939268, 0.40148464170999665]\n",
      "        v: 1.0\n",
      "    homogenization: sx\n",
      "\n",
      "homogenization:\n",
      "  sx:\n",
      "    N_constituents: 1\n",
      "    mechanical: {type: isostrain}\n",
      "\n",
      "phase:\n",
      "  A:\n",
      "    lattice: cF\n",
      "    rho: 2700.0\n",
      "    mechanical:\n",
      "      output: [F, P, F_e, F_p, L_p, O, xi_sl, gamma_sl]\n",
      "      elastic: {type: Hooke, C_11: 106900000000.0, 'C_11,T': -36850000.0, 'C_11,T^2': -10160.0, C_12: 60550000000.0, 'C_12,T': -8307000.0, 'C_12,T^2': -4353.0, C_44: 28370000000.0, 'C_44,T': -14180000.0, 'C_44,T^2': -3253.0, T_ref: 293.15}\n",
      "      plastic:\n",
      "        type: phenopowerlaw\n",
      "        N_sl: [12]\n",
      "        n_sl: 20\n",
      "        a_sl: 3.1\n",
      "        h_0_sl-sl: 170000000.0\n",
      "        xi_0_sl: [5000000.0]\n",
      "        xi_inf_sl: [37500000.0]\n",
      "        h_sl-sl: [1, 1, 1.4, 1.4, 1.4, 1.4, 1.4]\n",
      "        dot_gamma_0_sl: 7.5e-05\n",
      "  B:\n",
      "    lattice: hP\n",
      "    c/a: 1.587\n",
      "    rho: 4506.0\n",
      "    mechanical:\n",
      "      output: [F, P, F_e, F_p, L_p, O, xi_sl, gamma_sl]\n",
      "      elastic: {type: Hooke, C_11: 162600000000.0, 'C_11,T': -61500000.0, 'C_11,T^2': -555.7, C_33: 183300000000.0, 'C_33,T': -16550000.0, 'C_33,T^2': -10220.0, C_44: 45800000000.0, 'C_44,T': -29360000.0, 'C_44,T^2': 712.0, C_12: 89970000000.0, 'C_12,T': 2776000.0,\n",
      "        'C_12,T^2': -23890.0, C_13: 69530000000.0, 'C_13,T': 10570000.0, 'C_13,T^2': -2966.0, T_ref: 293.15}\n",
      "      plastic:\n",
      "        type: phenopowerlaw\n",
      "        N_sl: [3, 3, 0, 12]\n",
      "        n_sl: 20\n",
      "        a_sl: 2.0\n",
      "        dot_gamma_0_sl: 0.001\n",
      "        h_0_sl-sl: 200000000.0\n",
      "        xi_0_sl: [349000000.0, 150000000.0, 0.0, 1107000000.0]\n",
      "        xi_inf_sl: [568000000.0, 1500000000.0, 0.0, 3420000000.0]\n",
      "        h_sl-sl: [1.0, 1.0, 1.0, 1.0, 1.0, 1.0, 1.0, 1.0, -1.0, -1.0, -1.0, -1.0, -1.0, -1.0, -1.0, -1.0, -1.0, -1.0, -1.0, 1.0, 1.0, 1.0, 1.0, 1.0, 1.0, 1.0, 1.0, 1.0, 1.0, 1.0, 1.0, 1.0, 1.0, 1.0, 1.0, 1.0, 1.0, 1.0, 1.0, 1.0, 1.0, 1.0, 1.0, 1.0, 1.0, 1.0]\n",
      "\n"
     ]
    }
   ],
   "source": [
    "# add the materials\n",
    "material = material.material_add(homogenization='sx', phase='A', O=O_A)\n",
    "material = material.material_add(homogenization='sx', phase='B', O=O_B)\n",
    "print(material)\n"
   ]
  },
  {
   "cell_type": "code",
   "execution_count": 158,
   "id": "least-airplane",
   "metadata": {},
   "outputs": [],
   "source": [
    "# export configurated material to material.yaml\n",
    "material.save()"
   ]
  },
  {
   "cell_type": "code",
   "execution_count": 159,
   "id": "laden-paintball",
   "metadata": {},
   "outputs": [],
   "source": [
    "# setup polycrystal params\n",
    "size = [0.0001, 0.0001, 0.00001]\n",
    "cells = [20, 20, 1]\n",
    "N_grains = 20\n"
   ]
  },
  {
   "cell_type": "code",
   "execution_count": 160,
   "id": "d5bf9cb9",
   "metadata": {},
   "outputs": [],
   "source": [
    "seeds = damask.seeds.from_random(size, N_grains, cells)"
   ]
  },
  {
   "cell_type": "code",
   "execution_count": 161,
   "id": "organic-walker",
   "metadata": {},
   "outputs": [
    {
     "name": "stdout",
     "output_type": "stream",
     "text": [
      "cells:  20 × 20 × 1\n",
      "size:   0.0001 × 0.0001 × 1e-05 m³\n",
      "origin: 0.0   0.0   0.0 m\n",
      "# materials: 18 (min: 0, max: 19)\n"
     ]
    }
   ],
   "source": [
    "# defining crystal from triply-periodic minimal surface \"Schwarz D\"\n",
    "#grid = damask.Grid.from_minimal_surface(cells, size, 'Schwarz D')\n",
    "grid = damask.Grid.from_Voronoi_tessellation(cells, size, seeds)\n",
    "#grid.add_primitive([5, 5, 5], [1,1,1], 2)\n",
    "#grid = damask.Grid(np.zeros((60,60,1),int), size)\n",
    "grid = grid.add_primitive(np.ones(3)*8e-5,np.ones(3)*5e-5,1,fill=1,inverse=True)\n",
    "print(grid)\n",
    "grid.show()\n",
    "grid.save(f'{N_grains}_{cells[0]}x{cells[1]}x{cells[2]}_pc_hole2')\n"
   ]
  },
  {
   "cell_type": "code",
   "execution_count": null,
   "id": "explicit-calgary",
   "metadata": {},
   "outputs": [],
   "source": []
  },
  {
   "cell_type": "code",
   "execution_count": 162,
   "id": "f059fcdf",
   "metadata": {},
   "outputs": [],
   "source": [
    "#material['phase']['B'] = damask.ConfigMaterial.load('elastic.yaml') # Load Ti (plastic)\n",
    "#material = material.material_add(homogenization='sx', phase='B', O=O_B)\n",
    "#material = material.material_add(homogenization='sx', phase='B', O=O_B)\n",
    "#grid = grid.add_primitive(np.ones(3)*8e-5,np.ones(3)*5e-5,1,fill=3,inverse=True)"
   ]
  },
  {
   "cell_type": "code",
   "execution_count": 163,
   "id": "d64df19b",
   "metadata": {},
   "outputs": [],
   "source": [
    "#grid.show()"
   ]
  }
 ],
 "metadata": {
  "kernelspec": {
   "display_name": "Python 3.9.2 64-bit",
   "language": "python",
   "name": "python3"
  },
  "language_info": {
   "codemirror_mode": {
    "name": "ipython",
    "version": 3
   },
   "file_extension": ".py",
   "mimetype": "text/x-python",
   "name": "python",
   "nbconvert_exporter": "python",
   "pygments_lexer": "ipython3",
   "version": "3.10.12"
  },
  "vscode": {
   "interpreter": {
    "hash": "31f2aee4e71d21fbe5cf8b01ff0e069b9275f58929596ceb00d14d90e3e16cd6"
   }
  }
 },
 "nbformat": 4,
 "nbformat_minor": 5
}
