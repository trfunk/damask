{
 "cells": [
  {
   "cell_type": "code",
   "execution_count": 1,
   "id": "opening-association",
   "metadata": {},
   "outputs": [],
   "source": [
    "import damask\n",
    "import numpy as np\n",
    "import pyvista as pv\n",
    "\n",
    "pv.set_jupyter_backend('pythreejs')\n"
   ]
  },
  {
   "cell_type": "code",
   "execution_count": 2,
   "id": "annoying-shoot",
   "metadata": {},
   "outputs": [],
   "source": [
    "# new material \"material\"\n",
    "material = damask.ConfigMaterial()"
   ]
  },
  {
   "cell_type": "code",
   "execution_count": 3,
   "id": "architectural-township",
   "metadata": {},
   "outputs": [],
   "source": [
    "# define isotrain Taylor 2 homogenization\n",
    "\n",
    "#material['homogenization']['sx'] = damask.ConfigMaterial.load('isostrain_Taylor2.yaml') # does not work\n",
    "material['homogenization']['sx'] = {'N_constituents':1, 'mechanical': {'type':'isostrain'}} # make it make sense\n",
    "\n",
    "#material['homogenization']['sx'] = {'N_constituents':1}\n"
   ]
  },
  {
   "cell_type": "code",
   "execution_count": 4,
   "id": "flexible-james",
   "metadata": {},
   "outputs": [
    {
     "ename": "FileNotFoundError",
     "evalue": "[Errno 2] No such file or directory: 'phenopowerlaw_Al.yaml'",
     "output_type": "error",
     "traceback": [
      "\u001b[0;31m---------------------------------------------------------------------------\u001b[0m",
      "\u001b[0;31mFileNotFoundError\u001b[0m                         Traceback (most recent call last)",
      "\u001b[0;32m<ipython-input-4-6b6bbcb185e3>\u001b[0m in \u001b[0;36m<module>\u001b[0;34m\u001b[0m\n\u001b[1;32m      1\u001b[0m \u001b[0;31m#define materials, Material A being Al (plastic) and Material B being Ti (plastic)\u001b[0m\u001b[0;34m\u001b[0m\u001b[0;34m\u001b[0m\u001b[0;34m\u001b[0m\u001b[0m\n\u001b[0;32m----> 2\u001b[0;31m \u001b[0mmaterial\u001b[0m\u001b[0;34m[\u001b[0m\u001b[0;34m'phase'\u001b[0m\u001b[0;34m]\u001b[0m\u001b[0;34m[\u001b[0m\u001b[0;34m'A'\u001b[0m\u001b[0;34m]\u001b[0m \u001b[0;34m=\u001b[0m \u001b[0mdamask\u001b[0m\u001b[0;34m.\u001b[0m\u001b[0mConfigMaterial\u001b[0m\u001b[0;34m.\u001b[0m\u001b[0mload\u001b[0m\u001b[0;34m(\u001b[0m\u001b[0;34m'phenopowerlaw_Al.yaml'\u001b[0m\u001b[0;34m)\u001b[0m \u001b[0;31m# Load AL (plastic)\u001b[0m\u001b[0;34m\u001b[0m\u001b[0;34m\u001b[0m\u001b[0m\n\u001b[0m\u001b[1;32m      3\u001b[0m \u001b[0;31m#material['phase']['B'] = damask.ConfigMaterial.load('phenopowerlaw_Ti.yaml') # Load Ti (plastic)\u001b[0m\u001b[0;34m\u001b[0m\u001b[0;34m\u001b[0m\u001b[0;34m\u001b[0m\u001b[0m\n",
      "\u001b[0;32m/usr/lib/python3/dist-packages/damask/_configmaterial.py\u001b[0m in \u001b[0;36mload\u001b[0;34m(cls, fname)\u001b[0m\n\u001b[1;32m     93\u001b[0m \u001b[0;34m\u001b[0m\u001b[0m\n\u001b[1;32m     94\u001b[0m         \"\"\"\n\u001b[0;32m---> 95\u001b[0;31m         \u001b[0;32mreturn\u001b[0m \u001b[0msuper\u001b[0m\u001b[0;34m(\u001b[0m\u001b[0mConfigMaterial\u001b[0m\u001b[0;34m,\u001b[0m\u001b[0mcls\u001b[0m\u001b[0;34m)\u001b[0m\u001b[0;34m.\u001b[0m\u001b[0mload\u001b[0m\u001b[0;34m(\u001b[0m\u001b[0mfname\u001b[0m\u001b[0;34m)\u001b[0m\u001b[0;34m\u001b[0m\u001b[0;34m\u001b[0m\u001b[0m\n\u001b[0m\u001b[1;32m     96\u001b[0m \u001b[0;34m\u001b[0m\u001b[0m\n\u001b[1;32m     97\u001b[0m \u001b[0;34m\u001b[0m\u001b[0m\n",
      "\u001b[0;32m/usr/lib/python3/dist-packages/damask/_config.py\u001b[0m in \u001b[0;36mload\u001b[0;34m(cls, fname)\u001b[0m\n\u001b[1;32m    159\u001b[0m \u001b[0;34m\u001b[0m\u001b[0m\n\u001b[1;32m    160\u001b[0m         \"\"\"\n\u001b[0;32m--> 161\u001b[0;31m         \u001b[0mfhandle\u001b[0m \u001b[0;34m=\u001b[0m \u001b[0mopen\u001b[0m\u001b[0;34m(\u001b[0m\u001b[0mfname\u001b[0m\u001b[0;34m)\u001b[0m \u001b[0;32mif\u001b[0m \u001b[0misinstance\u001b[0m\u001b[0;34m(\u001b[0m\u001b[0mfname\u001b[0m\u001b[0;34m,\u001b[0m \u001b[0;34m(\u001b[0m\u001b[0mstr\u001b[0m\u001b[0;34m,\u001b[0m \u001b[0mPath\u001b[0m\u001b[0;34m)\u001b[0m\u001b[0;34m)\u001b[0m \u001b[0;32melse\u001b[0m\u001b[0;31m \u001b[0m\u001b[0;31m\\\u001b[0m\u001b[0;34m\u001b[0m\u001b[0;34m\u001b[0m\u001b[0m\n\u001b[0m\u001b[1;32m    162\u001b[0m                   \u001b[0mfname\u001b[0m\u001b[0;34m\u001b[0m\u001b[0;34m\u001b[0m\u001b[0m\n\u001b[1;32m    163\u001b[0m \u001b[0;34m\u001b[0m\u001b[0m\n",
      "\u001b[0;31mFileNotFoundError\u001b[0m: [Errno 2] No such file or directory: 'phenopowerlaw_Al.yaml'"
     ]
    }
   ],
   "source": [
    "#define materials, Material A being Al (plastic) and Material B being Ti (plastic)\n",
    "material['phase']['A'] = damask.ConfigMaterial.load('phenopowerlaw_Al.yaml') # Load AL (plastic)\n",
    "#material['phase']['B'] = damask.ConfigMaterial.load('phenopowerlaw_Ti.yaml') # Load Ti (plastic)"
   ]
  },
  {
   "cell_type": "code",
   "execution_count": 16,
   "id": "visible-disorder",
   "metadata": {},
   "outputs": [],
   "source": [
    "# define microstructure, 25 grains of Al and Ti - creating random microstructure\n",
    "O_A = damask.Rotation.from_random(25)\n",
    "O_B = damask.Rotation.from_random(25)"
   ]
  },
  {
   "cell_type": "code",
   "execution_count": 17,
   "id": "average-italic",
   "metadata": {
    "scrolled": false
   },
   "outputs": [],
   "source": [
    "# add the materials\n",
    "material = material.material_add(homogenization='sx', phase='A', O=O_A)\n",
    "material = material.material_add(homogenization='sx', phase='B', O=O_B)"
   ]
  },
  {
   "cell_type": "code",
   "execution_count": 18,
   "id": "least-airplane",
   "metadata": {},
   "outputs": [],
   "source": [
    "# export configurated material to material.yaml\n",
    "material.save()"
   ]
  },
  {
   "cell_type": "code",
   "execution_count": 19,
   "id": "laden-paintball",
   "metadata": {},
   "outputs": [],
   "source": [
    "# setup polycrystal params\n",
    "size = np.ones(3)*1e-5\n",
    "cells = [64,64,64]\n",
    "N_grains = 50\n",
    "seeds = damask.seeds.from_random(size, N_grains, cells)"
   ]
  },
  {
   "cell_type": "code",
   "execution_count": 20,
   "id": "organic-walker",
   "metadata": {},
   "outputs": [],
   "source": [
    "# defining crystal from triply-periodic minimal surface \"Schwarz D\"\n",
    "#grid = damask.Grid.from_minimal_surface(cells, size, 'Schwarz D')\n",
    "grid = damask.Grid.from_Voronoi_tessellation(cells, size, seeds)"
   ]
  },
  {
   "cell_type": "code",
   "execution_count": 21,
   "id": "explicit-calgary",
   "metadata": {},
   "outputs": [],
   "source": [
    "# save grid as 50_64x64x64_pc.vti\n",
    "grid.save(f'{N_grains}_{cells[0]}x{cells[1]}x{cells[2]}_pc_vor')"
   ]
  },
  {
   "cell_type": "code",
   "execution_count": 22,
   "id": "noticed-corner",
   "metadata": {},
   "outputs": [
    {
     "data": {
      "application/vnd.jupyter.widget-view+json": {
       "model_id": "3e2556cac67f4695b309f20ef8ab9e62",
       "version_major": 2,
       "version_minor": 0
      },
      "text/plain": [
       "Renderer(camera=PerspectiveCamera(aspect=1.3333333333333333, children=(DirectionalLight(intensity=0.25, positi…"
      ]
     },
     "metadata": {},
     "output_type": "display_data"
    }
   ],
   "source": [
    "# visualize grid or don't \n",
    "org = pv.UniformGrid(dims=grid.cells+1,\n",
    "                     spacing=grid.size/grid.cells,\n",
    "                     origin=grid.origin)\n",
    "org['material'] =   grid.material.flatten('F')\n",
    "\n",
    "pl = pv.Plotter()\n",
    "pl.set_background('white')\n",
    "pl.add_mesh(org)\n",
    "pl.show()"
   ]
  },
  {
   "cell_type": "code",
   "execution_count": null,
   "id": "banner-vertical",
   "metadata": {},
   "outputs": [],
   "source": []
  }
 ],
 "metadata": {
  "kernelspec": {
   "display_name": "Python 3.9.2 64-bit",
   "language": "python",
   "name": "python3"
  },
  "language_info": {
   "codemirror_mode": {
    "name": "ipython",
    "version": 3
   },
   "file_extension": ".py",
   "mimetype": "text/x-python",
   "name": "python",
   "nbconvert_exporter": "python",
   "pygments_lexer": "ipython3",
   "version": "3.9.2"
  },
  "vscode": {
   "interpreter": {
    "hash": "31f2aee4e71d21fbe5cf8b01ff0e069b9275f58929596ceb00d14d90e3e16cd6"
   }
  }
 },
 "nbformat": 4,
 "nbformat_minor": 5
}
