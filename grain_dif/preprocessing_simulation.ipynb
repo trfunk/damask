{
 "cells": [
  {
   "cell_type": "code",
   "execution_count": 22,
   "id": "opening-association",
   "metadata": {},
   "outputs": [],
   "source": [
    "import damask\n",
    "import numpy as np\n"
   ]
  },
  {
   "cell_type": "code",
   "execution_count": 23,
   "id": "annoying-shoot",
   "metadata": {},
   "outputs": [],
   "source": [
    "# new material \"material\"\n",
    "material = damask.ConfigMaterial()"
   ]
  },
  {
   "cell_type": "code",
   "execution_count": 24,
   "id": "architectural-township",
   "metadata": {},
   "outputs": [],
   "source": [
    "# define isotrain Taylor 2 homogenization\n",
    "\n",
    "#material['homogenization']['sx'] = damask.ConfigMaterial.load('isostrain_Taylor2.yaml') # does not work\n",
    "material['homogenization']['sx'] = {'N_constituents':1, 'mechanical': {'type':'isostrain'}} # make it make sense\n",
    "\n",
    "#material['homogenization']['sx'] = {'N_constituents':1}\n"
   ]
  },
  {
   "cell_type": "code",
   "execution_count": 25,
   "id": "flexible-james",
   "metadata": {},
   "outputs": [],
   "source": [
    "#define materials, Material A being Al (plastic) and Material B being Ti (plastic)\n",
    "material['phase']['A'] = damask.ConfigMaterial.load('phenopowerlaw_Al.yaml') # Load AL (plastic)\n",
    "material['phase']['B'] = damask.ConfigMaterial.load('elastic.yaml') # Load Ti (plastic)"
   ]
  },
  {
   "cell_type": "code",
   "execution_count": 26,
   "id": "visible-disorder",
   "metadata": {},
   "outputs": [],
   "source": [
    "# define microstructure, 25 grains of Al and Ti - creating random microstructure\n",
    "O_A = damask.Rotation.from_random(10)\n",
    "O_B = damask.Rotation.from_random(1)\n"
   ]
  },
  {
   "cell_type": "code",
   "execution_count": 27,
   "id": "average-italic",
   "metadata": {
    "scrolled": false
   },
   "outputs": [
    {
     "name": "stdout",
     "output_type": "stream",
     "text": [
      "material:\n",
      "  - constituents:\n",
      "      - phase: A\n",
      "        O: [0.7269330069547368, 0.16147427537662046, -0.554233770358445, 0.37191314790633917]\n",
      "        v: 1.0\n",
      "    homogenization: sx\n",
      "  - constituents:\n",
      "      - phase: A\n",
      "        O: [0.8863782393288464, 0.2929141863155088, -0.10571477271303079, 0.3425774118789065]\n",
      "        v: 1.0\n",
      "    homogenization: sx\n",
      "  - constituents:\n",
      "      - phase: A\n",
      "        O: [0.8353435415144257, -0.0904267865312782, -0.46247210971462116, -0.2830966472141113]\n",
      "        v: 1.0\n",
      "    homogenization: sx\n",
      "  - constituents:\n",
      "      - phase: A\n",
      "        O: [0.5983894543855472, 0.39353728890666523, -0.441839501472361, 0.5402187687028419]\n",
      "        v: 1.0\n",
      "    homogenization: sx\n",
      "  - constituents:\n",
      "      - phase: A\n",
      "        O: [0.7435620787937276, -0.12673250828876073, 0.38588042296279146, -0.5311785062451668]\n",
      "        v: 1.0\n",
      "    homogenization: sx\n",
      "  - constituents:\n",
      "      - phase: A\n",
      "        O: [0.8036242131275746, 0.5609165218273957, 0.17964793186626826, 0.08536627081181403]\n",
      "        v: 1.0\n",
      "    homogenization: sx\n",
      "  - constituents:\n",
      "      - phase: A\n",
      "        O: [0.6284331370392382, -0.31009672200495153, -0.6244989682342059, -0.3448374311863755]\n",
      "        v: 1.0\n",
      "    homogenization: sx\n",
      "  - constituents:\n",
      "      - phase: A\n",
      "        O: [0.6683481440860521, 0.5780207508328343, -0.3698485760352678, 0.28707978108543414]\n",
      "        v: 1.0\n",
      "    homogenization: sx\n",
      "  - constituents:\n",
      "      - phase: A\n",
      "        O: [0.7913678946313659, 0.06996448130536556, -0.6073227070746156, 0.0009778414754640797]\n",
      "        v: 1.0\n",
      "    homogenization: sx\n",
      "  - constituents:\n",
      "      - phase: A\n",
      "        O: [0.3872972726831011, 0.7887787089711231, 0.0234027590777424, -0.4767402665116812]\n",
      "        v: 1.0\n",
      "    homogenization: sx\n",
      "  - constituents:\n",
      "      - phase: B\n",
      "        O: [0.8909273572217709, -0.015271693974136146, 0.41810149906637845, 0.1766532082794946]\n",
      "        v: 1.0\n",
      "    homogenization: sx\n",
      "\n",
      "homogenization:\n",
      "  sx:\n",
      "    N_constituents: 1\n",
      "    mechanical: {type: isostrain}\n",
      "\n",
      "phase:\n",
      "  A:\n",
      "    lattice: cF\n",
      "    rho: 2700.0\n",
      "    mechanical:\n",
      "      output: [F, P, F_e, F_p, L_p, O, xi_sl, gamma_sl]\n",
      "      elastic: {type: Hooke, C_11: 106900000000.0, 'C_11,T': -36850000.0, 'C_11,T^2': -10160.0, C_12: 60550000000.0, 'C_12,T': -8307000.0, 'C_12,T^2': -4353.0, C_44: 28370000000.0, 'C_44,T': -14180000.0, 'C_44,T^2': -3253.0, T_ref: 293.15}\n",
      "      plastic:\n",
      "        type: phenopowerlaw\n",
      "        N_sl: [12]\n",
      "        n_sl: 20\n",
      "        a_sl: 3.1\n",
      "        h_0_sl-sl: 170000000.0\n",
      "        xi_0_sl: [5000000.0]\n",
      "        xi_inf_sl: [37500000.0]\n",
      "        h_sl-sl: [1, 1, 1.4, 1.4, 1.4, 1.4, 1.4]\n",
      "        dot_gamma_0_sl: 7.5e-05\n",
      "  B:\n",
      "    lattice: cF\n",
      "    rho: 2700.0\n",
      "    mechanical:\n",
      "      output: [F, P, F_e, F_p, L_p, O, xi_sl, gamma_sl]\n",
      "      elastic: {type: Hooke, C_11: 100000000.0, C_12: 0, C_44: 50000000.0}\n",
      "\n"
     ]
    }
   ],
   "source": [
    "# add the materials\n",
    "material = material.material_add(homogenization='sx', phase='A', O=O_A)\n",
    "material = material.material_add(homogenization='sx', phase='B', O=O_B)\n",
    "print(material)\n"
   ]
  },
  {
   "cell_type": "code",
   "execution_count": 28,
   "id": "least-airplane",
   "metadata": {},
   "outputs": [],
   "source": [
    "# export configurated material to material.yaml\n",
    "material.save()"
   ]
  },
  {
   "cell_type": "code",
   "execution_count": 29,
   "id": "laden-paintball",
   "metadata": {},
   "outputs": [],
   "source": [
    "# setup polycrystal params\n",
    "size = [0.0001, 0.0001, 0.00001]\n",
    "cells = [40,40,1]\n",
    "N_grains = 10\n"
   ]
  },
  {
   "cell_type": "code",
   "execution_count": 30,
   "id": "d5bf9cb9",
   "metadata": {},
   "outputs": [],
   "source": [
    "seeds = damask.seeds.from_random(size, N_grains, cells)"
   ]
  },
  {
   "cell_type": "code",
   "execution_count": 31,
   "id": "organic-walker",
   "metadata": {},
   "outputs": [
    {
     "name": "stdout",
     "output_type": "stream",
     "text": [
      "cells:  40 × 40 × 1\n",
      "size:   0.0001 × 0.0001 × 1e-05 m³\n",
      "origin: 0.0   0.0   0.0 m\n",
      "# materials: 10 (min: 0, max: 11)\n"
     ]
    }
   ],
   "source": [
    "# defining crystal from triply-periodic minimal surface \"Schwarz D\"\n",
    "#grid = damask.Grid.from_minimal_surface(cells, size, 'Schwarz D')\n",
    "grid = damask.Grid.from_Voronoi_tessellation(cells, size, seeds)\n",
    "#grid.show()\n",
    "#grid.add_primitive([5, 5, 5], [1,1,1], 2)\n",
    "#grid = damask.Grid(np.zeros((60,60,1),int), size)\n",
    "grid = grid.add_primitive(np.ones(3)*8e-5,np.ones(3)*5e-5,1,fill=11,inverse=True)\n",
    "print(grid)\n",
    "grid.show()\n",
    "grid.save(f'{N_grains}_{cells[0]}x{cells[1]}x{cells[2]}_test')\n"
   ]
  },
  {
   "cell_type": "code",
   "execution_count": 11,
   "id": "explicit-calgary",
   "metadata": {},
   "outputs": [
    {
     "name": "stdout",
     "output_type": "stream",
     "text": [
      "cells:  20 × 20 × 1\n",
      "size:   0.0001 × 0.0001 × 1e-05 m³\n",
      "origin: 0.0   0.0   0.0 m\n",
      "# materials: 18 (min: 0, max: 19)\n"
     ]
    }
   ],
   "source": [
    "print(grid)\n",
    "# save grid as 50_64x64x64_pc.vti\n",
    "grid.save(f'{N_grains}_{cells[0]}x{cells[1]}x{cells[2]}_pc_hole2')"
   ]
  },
  {
   "cell_type": "code",
   "execution_count": null,
   "id": "f059fcdf",
   "metadata": {},
   "outputs": [],
   "source": []
  },
  {
   "cell_type": "code",
   "execution_count": null,
   "metadata": {},
   "outputs": [],
   "source": []
  }
 ],
 "metadata": {
  "kernelspec": {
   "display_name": "Python 3.9.2 64-bit",
   "language": "python",
   "name": "python3"
  },
  "language_info": {
   "codemirror_mode": {
    "name": "ipython",
    "version": 3
   },
   "file_extension": ".py",
   "mimetype": "text/x-python",
   "name": "python",
   "nbconvert_exporter": "python",
   "pygments_lexer": "ipython3",
   "version": "3.10.12"
  },
  "vscode": {
   "interpreter": {
    "hash": "31f2aee4e71d21fbe5cf8b01ff0e069b9275f58929596ceb00d14d90e3e16cd6"
   }
  }
 },
 "nbformat": 4,
 "nbformat_minor": 5
}
