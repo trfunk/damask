{
 "cells": [
  {
   "cell_type": "code",
   "execution_count": 55,
   "metadata": {},
   "outputs": [],
   "source": [
    "import damask\n",
    "import numpy as np\n"
   ]
  },
  {
   "cell_type": "code",
   "execution_count": 56,
   "metadata": {},
   "outputs": [],
   "source": [
    "# new material \"material\"\n",
    "material = damask.ConfigMaterial()"
   ]
  },
  {
   "cell_type": "code",
   "execution_count": 57,
   "metadata": {},
   "outputs": [],
   "source": [
    "# define isotrain Taylor 2 homogenization\n",
    "\n",
    "#material['homogenization']['sx'] = damask.ConfigMaterial.load('isostrain_Taylor2.yaml') # does not work\n",
    "material['homogenization']['sx'] = {'N_constituents':2, 'mechanical': {'type':'isostrain'}} # make it make sense\n",
    "\n",
    "#material['homogenization']['sx'] = {'N_constituents':1}"
   ]
  },
  {
   "cell_type": "code",
   "execution_count": 58,
   "metadata": {},
   "outputs": [],
   "source": [
    "#define materials, Material A being Al (plastic) and Material B being Ti (plastic)\n",
    "material['phase']['A'] = damask.ConfigMaterial.load('phenopowerlaw_Al.yaml') # Load AL (plastic)\n",
    "material['phase']['B'] = damask.ConfigMaterial.load('phenopowerlaw_Ti.yaml') # Load Ti (plastic)"
   ]
  },
  {
   "cell_type": "code",
   "execution_count": 59,
   "metadata": {},
   "outputs": [],
   "source": [
    "# define microstructure, 25 grains of Al and Ti - creating random microstructure\n",
    "O_A = damask.Rotation.from_random(20)\n",
    "O_B = damask.Rotation.from_random(20)\n"
   ]
  },
  {
   "cell_type": "code",
   "execution_count": 60,
   "metadata": {},
   "outputs": [],
   "source": [
    "material = material.material_add(homogenization=\"sx\", phase=\"A\", O=O_A)\n",
    "material = material.material_add(homogenization=\"sx\", phase=\"B\", O=O_B)"
   ]
  },
  {
   "cell_type": "code",
   "execution_count": 61,
   "metadata": {},
   "outputs": [],
   "source": [
    "# export configurated material to material.yaml\n",
    "material.save()"
   ]
  },
  {
   "cell_type": "code",
   "execution_count": 62,
   "metadata": {},
   "outputs": [],
   "source": [
    "# setup polycrystal params\n",
    "size = np.ones(3)*1e-5\n",
    "cells = [32,32,32]\n",
    "N_grains = 40\n"
   ]
  },
  {
   "cell_type": "code",
   "execution_count": 63,
   "metadata": {},
   "outputs": [],
   "source": [
    "seeds = damask.seeds.from_random(size, N_grains, cells)"
   ]
  },
  {
   "cell_type": "code",
   "execution_count": 64,
   "metadata": {},
   "outputs": [],
   "source": [
    "#grid = damask.Grid.from_Voronoi_tessellation(cells, size, seeds)"
   ]
  },
  {
   "cell_type": "code",
   "execution_count": 65,
   "metadata": {},
   "outputs": [
    {
     "data": {
      "text/plain": [
       "cells:  64 × 64 × 64\n",
       "size:   0.0001 × 0.0001 × 0.0001 m³\n",
       "origin: 0.0   0.0   0.0 m\n",
       "# materials: 2"
      ]
     },
     "execution_count": 65,
     "metadata": {},
     "output_type": "execute_result"
    }
   ],
   "source": [
    "grid = damask.Grid(np.zeros([64]*3,int), np.ones(3)*1e-4)\n",
    "grid.add_primitive(np.ones(3)*5e-5,np.ones(3)*5e-5,1)"
   ]
  },
  {
   "cell_type": "code",
   "execution_count": 66,
   "metadata": {},
   "outputs": [],
   "source": [
    "grid.save(f'sphere_{N_grains}_{cells[0]}x{cells[1]}x{cells[2]}')"
   ]
  },
  {
   "cell_type": "code",
   "execution_count": null,
   "metadata": {},
   "outputs": [],
   "source": []
  }
 ],
 "metadata": {
  "kernelspec": {
   "display_name": "Python 3",
   "language": "python",
   "name": "python3"
  },
  "language_info": {
   "codemirror_mode": {
    "name": "ipython",
    "version": 3
   },
   "file_extension": ".py",
   "mimetype": "text/x-python",
   "name": "python",
   "nbconvert_exporter": "python",
   "pygments_lexer": "ipython3",
   "version": "3.10.12"
  },
  "orig_nbformat": 4
 },
 "nbformat": 4,
 "nbformat_minor": 2
}
